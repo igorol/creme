{
 "cells": [
  {
   "cell_type": "markdown",
   "metadata": {},
   "source": [
    "# Benchmarks"
   ]
  },
  {
   "cell_type": "code",
   "execution_count": 1,
   "metadata": {},
   "outputs": [],
   "source": [
    "%load_ext autoreload\n",
    "%autoreload 2\n",
    "%matplotlib inline"
   ]
  },
  {
   "cell_type": "code",
   "execution_count": 2,
   "metadata": {},
   "outputs": [
    {
     "name": "stderr",
     "output_type": "stream",
     "text": [
      "Using TensorFlow backend.\n"
     ]
    }
   ],
   "source": [
    "import collections\n",
    "import time\n",
    "import os\n",
    "\n",
    "from creme import base\n",
    "from creme import compat\n",
    "from creme import compose\n",
    "from creme import datasets\n",
    "from creme import feature_extraction\n",
    "from creme import linear_model\n",
    "from creme import metrics\n",
    "from creme import preprocessing\n",
    "from creme import optim\n",
    "from creme import stats\n",
    "from creme import stream\n",
    "from keras import layers\n",
    "from keras import models\n",
    "from keras import optimizers\n",
    "import pandas as pd\n",
    "from sklearn import exceptions\n",
    "from sklearn import linear_model as sk_linear_model\n",
    "import torch\n",
    "import tqdm\n",
    "from vowpalwabbit import pyvw"
   ]
  },
  {
   "cell_type": "code",
   "execution_count": 3,
   "metadata": {},
   "outputs": [],
   "source": [
    "def format_ns(d):\n",
    "\n",
    "    units = collections.OrderedDict({'ns': 1})\n",
    "    units['μs'] = 1000 * units['ns']\n",
    "    units['ms'] = 1000 * units['μs']\n",
    "    units['s'] = 1000 * units['ms']\n",
    "    units['m'] = 60 * units['s']\n",
    "    units['h'] = 60 * units['m']\n",
    "    units['d'] = 24 * units['h']\n",
    "\n",
    "    parts = []\n",
    "\n",
    "    for unit in reversed(units):\n",
    "        amount = units[unit]\n",
    "        quotient, d = divmod(d, amount)\n",
    "        if quotient > 0:\n",
    "            parts.append(f'{quotient}{unit}')\n",
    "        elif d == 0:\n",
    "            break\n",
    "\n",
    "    return ', '.join(parts)\n",
    "\n",
    "\n",
    "def benchmark(get_X_y, n, get_pp, models, get_metric):\n",
    "\n",
    "    Result = collections.namedtuple('Result', 'lib model score fit_time pred_time')\n",
    "    results = []\n",
    "\n",
    "    for lib, name, model in tqdm.tqdm_notebook(models):\n",
    "\n",
    "        pp = get_pp()\n",
    "        metric = get_metric()\n",
    "        fit_time = 0\n",
    "        pred_time = 0\n",
    "\n",
    "        # Determine if predict_one or predict_proba_one should be used in case of a classifier\n",
    "        pred_func = model.predict_one\n",
    "        if isinstance(model, base.Classifier) and not metric.requires_labels:\n",
    "            pred_func = model.predict_proba_one\n",
    "\n",
    "        for x, y in tqdm.tqdm_notebook(get_X_y(), total=n):\n",
    "\n",
    "            x = pp.fit_one(x, y).transform_one(x)\n",
    "\n",
    "            # Predict\n",
    "            tic = time.perf_counter_ns()\n",
    "            y_pred = pred_func(x)\n",
    "            pred_time += time.perf_counter_ns() - tic\n",
    "\n",
    "            # Score\n",
    "            metric.update(y_true=y, y_pred=y_pred)\n",
    "\n",
    "            # Fit\n",
    "            tic = time.perf_counter_ns()\n",
    "            model.fit_one(x, y)\n",
    "            fit_time += time.perf_counter_ns() - tic\n",
    "\n",
    "        results.append(Result(lib, name, metric.get(), fit_time, pred_time))\n",
    "\n",
    "    results = pd.DataFrame({\n",
    "        'Library': [r.lib for r in results],\n",
    "        'Model': [r.model for r in results],\n",
    "        metric.__class__.__name__: [r.score for r in results],\n",
    "        'Fit time': [format_ns(r.fit_time) for r in results],\n",
    "        'Average fit time': [format_ns(round(r.fit_time / n)) for r in results],\n",
    "        'Predict time': [format_ns(r.pred_time) for r in results],\n",
    "        'Average predict time': [format_ns(round(r.pred_time / n)) for r in results]\n",
    "    })\n",
    "\n",
    "    return results"
   ]
  },
  {
   "cell_type": "code",
   "execution_count": 4,
   "metadata": {},
   "outputs": [],
   "source": [
    "class ScikitLearnClassifier(base.MultiClassifier):\n",
    "\n",
    "    def __init__(self, model, classes):\n",
    "        self.model = model\n",
    "        self.classes = classes\n",
    "\n",
    "    def fit_one(self, x, y):\n",
    "        self.model.partial_fit([list(x.values())], [y], classes=self.classes)\n",
    "        return self\n",
    "\n",
    "    def predict_proba_one(self, x):\n",
    "        try:\n",
    "            return dict(zip(self.classes, self.model.predict_proba([list(x.values())])[0]))\n",
    "        except exceptions.NotFittedError:\n",
    "            return {c: 1 / len(self.classes) for c in self.classes}\n",
    "        \n",
    "\n",
    "class ScikitLearnRegressor(base.Regressor):\n",
    "\n",
    "    def __init__(self, model):\n",
    "        self.model = model\n",
    "\n",
    "    def fit_one(self, x, y):\n",
    "        self.model.partial_fit([list(x.values())], [y])\n",
    "        return self\n",
    "\n",
    "    def predict_one(self, x):\n",
    "        try:\n",
    "            return self.model.predict([list(x.values())])[0]\n",
    "        except exceptions.NotFittedError:\n",
    "            return 0\n",
    "        \n",
    "        \n",
    "class PyTorchModel:\n",
    "    \n",
    "    def __init__(self, network, loss_fn, optimizer):\n",
    "        self.network = network\n",
    "        self.loss_fn = loss_fn\n",
    "        self.optimizer = optimizer\n",
    "\n",
    "    def fit_one(self, x, y):\n",
    "        x = torch.FloatTensor(list(x.values()))\n",
    "        y = torch.FloatTensor([y])\n",
    "\n",
    "        y_pred = self.network(x)\n",
    "        loss = self.loss_fn(y_pred, y)\n",
    "        self.optimizer.zero_grad()\n",
    "        loss.backward()\n",
    "        self.optimizer.step()\n",
    "        \n",
    "        return self\n",
    "\n",
    "\n",
    "class PyTorchRegressor(PyTorchModel, base.Regressor):\n",
    "\n",
    "    def predict_one(self, x):\n",
    "        x = torch.FloatTensor(list(x.values()))\n",
    "        return self.network(x).item()\n",
    "    \n",
    "    \n",
    "class PyTorchBinaryClassifier(PyTorchModel, base.BinaryClassifier):\n",
    "\n",
    "    def predict_proba_one(self, x):\n",
    "        \n",
    "        x = torch.FloatTensor(list(x.values()))\n",
    "        p = self.network(x).item()\n",
    "        \n",
    "        return {True: p, False: 1. - p}\n",
    "    \n",
    "    \n",
    "class KerasModel:\n",
    "\n",
    "    def __init__(self, model):\n",
    "        self.model = model\n",
    "\n",
    "    def fit_one(self, x, y):\n",
    "        x = [[list(x.values())]]\n",
    "        y = [[y]]\n",
    "        self.model.train_on_batch(x, y)\n",
    "        return self\n",
    "    \n",
    "    \n",
    "class KerasRegressor(KerasModel, base.Regressor):\n",
    "\n",
    "    def predict_one(self, x):\n",
    "        x = [[list(x.values())]]\n",
    "        return self.model.predict_on_batch(x)[0][0]\n",
    "    \n",
    "\n",
    "class KerasBinaryClassifier(KerasModel, base.BinaryClassifier):\n",
    "    \n",
    "    def predict_proba_one(self, x):\n",
    "        x = [[list(x.values())]]\n",
    "        p_true = self.model.predict_on_batch(x)[0][0]\n",
    "        return {True: p_true, False: 1. - p_true}\n",
    "\n",
    "\n",
    "class VowpalWabbitRegressor(base.Regressor):\n",
    "\n",
    "    def __init__(self, **kwargs):\n",
    "        kwargs['passes'] = 1\n",
    "        self.model = pyvw.vw('--quiet', **kwargs)\n",
    "\n",
    "    def format_features(self, x):\n",
    "        return ' '.join((f'{k}:{v}' for k, v in x.items()))\n",
    "\n",
    "    def fit_one(self, x, y):\n",
    "        self.model.learn(f'{y} | {self.format_features(x)}')\n",
    "        return self\n",
    "\n",
    "    def predict_one(self, x):\n",
    "        return self.model.predict(self.format_features(x))"
   ]
  },
  {
   "cell_type": "markdown",
   "metadata": {},
   "source": [
    "## Bikes (regression)"
   ]
  },
  {
   "cell_type": "code",
   "execution_count": 5,
   "metadata": {},
   "outputs": [
    {
     "name": "stderr",
     "output_type": "stream",
     "text": [
      "WARNING: Logging before flag parsing goes to stderr.\n",
      "W0818 19:28:44.957770 140531294672704 deprecation_wrapper.py:119] From /home/max/anaconda3/lib/python3.7/site-packages/keras/backend/tensorflow_backend.py:74: The name tf.get_default_graph is deprecated. Please use tf.compat.v1.get_default_graph instead.\n",
      "\n",
      "W0818 19:28:45.003252 140531294672704 deprecation_wrapper.py:119] From /home/max/anaconda3/lib/python3.7/site-packages/keras/backend/tensorflow_backend.py:517: The name tf.placeholder is deprecated. Please use tf.compat.v1.placeholder instead.\n",
      "\n",
      "W0818 19:28:45.100038 140531294672704 deprecation_wrapper.py:119] From /home/max/anaconda3/lib/python3.7/site-packages/keras/optimizers.py:790: The name tf.train.Optimizer is deprecated. Please use tf.compat.v1.train.Optimizer instead.\n",
      "\n"
     ]
    },
    {
     "data": {
      "application/vnd.jupyter.widget-view+json": {
       "model_id": "00c0c02d9e1b437898c375a4cd372854",
       "version_major": 2,
       "version_minor": 0
      },
      "text/plain": [
       "HBox(children=(IntProgress(value=0, max=4), HTML(value='')))"
      ]
     },
     "metadata": {},
     "output_type": "display_data"
    },
    {
     "data": {
      "application/vnd.jupyter.widget-view+json": {
       "model_id": "e8fbf57c6dfa492a9225c428795628a7",
       "version_major": 2,
       "version_minor": 0
      },
      "text/plain": [
       "HBox(children=(IntProgress(value=0, max=182470), HTML(value='')))"
      ]
     },
     "metadata": {},
     "output_type": "display_data"
    },
    {
     "name": "stdout",
     "output_type": "stream",
     "text": [
      "\n"
     ]
    },
    {
     "ename": "TypeError",
     "evalue": "no default __reduce__ due to non-trivial __cinit__",
     "output_type": "error",
     "traceback": [
      "\u001b[0;31m---------------------------------------------------------------------------\u001b[0m",
      "\u001b[0;31mTypeError\u001b[0m                                 Traceback (most recent call last)",
      "\u001b[0;32m<ipython-input-5-b4148a0502b0>\u001b[0m in \u001b[0;36m<module>\u001b[0;34m\u001b[0m\n\u001b[1;32m     59\u001b[0m         )),\n\u001b[1;32m     60\u001b[0m     ],\n\u001b[0;32m---> 61\u001b[0;31m     \u001b[0mget_metric\u001b[0m\u001b[0;34m=\u001b[0m\u001b[0mmetrics\u001b[0m\u001b[0;34m.\u001b[0m\u001b[0mMSE\u001b[0m\u001b[0;34m\u001b[0m\u001b[0;34m\u001b[0m\u001b[0m\n\u001b[0m\u001b[1;32m     62\u001b[0m )\n",
      "\u001b[0;32m<ipython-input-3-febf9a2c1b9d>\u001b[0m in \u001b[0;36mbenchmark\u001b[0;34m(get_X_y, n, get_pp, models, get_metric)\u001b[0m\n\u001b[1;32m     41\u001b[0m         \u001b[0;32mfor\u001b[0m \u001b[0mx\u001b[0m\u001b[0;34m,\u001b[0m \u001b[0my\u001b[0m \u001b[0;32min\u001b[0m \u001b[0mtqdm\u001b[0m\u001b[0;34m.\u001b[0m\u001b[0mtqdm_notebook\u001b[0m\u001b[0;34m(\u001b[0m\u001b[0mget_X_y\u001b[0m\u001b[0;34m(\u001b[0m\u001b[0;34m)\u001b[0m\u001b[0;34m,\u001b[0m \u001b[0mtotal\u001b[0m\u001b[0;34m=\u001b[0m\u001b[0mn\u001b[0m\u001b[0;34m)\u001b[0m\u001b[0;34m:\u001b[0m\u001b[0;34m\u001b[0m\u001b[0;34m\u001b[0m\u001b[0m\n\u001b[1;32m     42\u001b[0m \u001b[0;34m\u001b[0m\u001b[0m\n\u001b[0;32m---> 43\u001b[0;31m             \u001b[0mx\u001b[0m \u001b[0;34m=\u001b[0m \u001b[0mpp\u001b[0m\u001b[0;34m.\u001b[0m\u001b[0mfit_one\u001b[0m\u001b[0;34m(\u001b[0m\u001b[0mx\u001b[0m\u001b[0;34m,\u001b[0m \u001b[0my\u001b[0m\u001b[0;34m)\u001b[0m\u001b[0;34m.\u001b[0m\u001b[0mtransform_one\u001b[0m\u001b[0;34m(\u001b[0m\u001b[0mx\u001b[0m\u001b[0;34m)\u001b[0m\u001b[0;34m\u001b[0m\u001b[0;34m\u001b[0m\u001b[0m\n\u001b[0m\u001b[1;32m     44\u001b[0m \u001b[0;34m\u001b[0m\u001b[0m\n\u001b[1;32m     45\u001b[0m             \u001b[0;31m# Predict\u001b[0m\u001b[0;34m\u001b[0m\u001b[0;34m\u001b[0m\u001b[0;34m\u001b[0m\u001b[0m\n",
      "\u001b[0;32m~/projects/creme/creme/compose/pipeline.py\u001b[0m in \u001b[0;36mfit_one\u001b[0;34m(self, x, y)\u001b[0m\n\u001b[1;32m    219\u001b[0m         \u001b[0;32mfor\u001b[0m \u001b[0mt\u001b[0m \u001b[0;32min\u001b[0m \u001b[0mitertools\u001b[0m\u001b[0;34m.\u001b[0m\u001b[0mislice\u001b[0m\u001b[0;34m(\u001b[0m\u001b[0mself\u001b[0m\u001b[0;34m.\u001b[0m\u001b[0mvalues\u001b[0m\u001b[0;34m(\u001b[0m\u001b[0;34m)\u001b[0m\u001b[0;34m,\u001b[0m \u001b[0mlen\u001b[0m\u001b[0;34m(\u001b[0m\u001b[0mself\u001b[0m\u001b[0;34m)\u001b[0m \u001b[0;34m-\u001b[0m \u001b[0;36m1\u001b[0m\u001b[0;34m)\u001b[0m\u001b[0;34m:\u001b[0m\u001b[0;34m\u001b[0m\u001b[0;34m\u001b[0m\u001b[0m\n\u001b[1;32m    220\u001b[0m             \u001b[0mx_pre\u001b[0m \u001b[0;34m=\u001b[0m \u001b[0mx\u001b[0m\u001b[0;34m\u001b[0m\u001b[0;34m\u001b[0m\u001b[0m\n\u001b[0;32m--> 221\u001b[0;31m             \u001b[0mx\u001b[0m \u001b[0;34m=\u001b[0m \u001b[0mt\u001b[0m\u001b[0;34m.\u001b[0m\u001b[0mtransform_one\u001b[0m\u001b[0;34m(\u001b[0m\u001b[0mx\u001b[0m\u001b[0;34m)\u001b[0m\u001b[0;34m\u001b[0m\u001b[0;34m\u001b[0m\u001b[0m\n\u001b[0m\u001b[1;32m    222\u001b[0m \u001b[0;34m\u001b[0m\u001b[0m\n\u001b[1;32m    223\u001b[0m             \u001b[0;31m# If a transformer is supervised then it has to be updated\u001b[0m\u001b[0;34m\u001b[0m\u001b[0;34m\u001b[0m\u001b[0;34m\u001b[0m\u001b[0m\n",
      "\u001b[0;32m~/projects/creme/creme/compose/union.py\u001b[0m in \u001b[0;36mtransform_one\u001b[0;34m(self, x)\u001b[0m\n\u001b[1;32m    124\u001b[0m         return dict(collections.ChainMap(*(\n\u001b[1;32m    125\u001b[0m             \u001b[0mtransformer\u001b[0m\u001b[0;34m.\u001b[0m\u001b[0mtransform_one\u001b[0m\u001b[0;34m(\u001b[0m\u001b[0mx\u001b[0m\u001b[0;34m)\u001b[0m\u001b[0;34m\u001b[0m\u001b[0;34m\u001b[0m\u001b[0m\n\u001b[0;32m--> 126\u001b[0;31m             \u001b[0;32mfor\u001b[0m \u001b[0mtransformer\u001b[0m \u001b[0;32min\u001b[0m \u001b[0mself\u001b[0m\u001b[0;34m.\u001b[0m\u001b[0mvalues\u001b[0m\u001b[0;34m(\u001b[0m\u001b[0;34m)\u001b[0m\u001b[0;34m\u001b[0m\u001b[0;34m\u001b[0m\u001b[0m\n\u001b[0m\u001b[1;32m    127\u001b[0m         )))\n\u001b[1;32m    128\u001b[0m \u001b[0;34m\u001b[0m\u001b[0m\n",
      "\u001b[0;32m~/projects/creme/creme/compose/union.py\u001b[0m in \u001b[0;36m<genexpr>\u001b[0;34m(.0)\u001b[0m\n\u001b[1;32m    124\u001b[0m         return dict(collections.ChainMap(*(\n\u001b[1;32m    125\u001b[0m             \u001b[0mtransformer\u001b[0m\u001b[0;34m.\u001b[0m\u001b[0mtransform_one\u001b[0m\u001b[0;34m(\u001b[0m\u001b[0mx\u001b[0m\u001b[0;34m)\u001b[0m\u001b[0;34m\u001b[0m\u001b[0;34m\u001b[0m\u001b[0m\n\u001b[0;32m--> 126\u001b[0;31m             \u001b[0;32mfor\u001b[0m \u001b[0mtransformer\u001b[0m \u001b[0;32min\u001b[0m \u001b[0mself\u001b[0m\u001b[0;34m.\u001b[0m\u001b[0mvalues\u001b[0m\u001b[0;34m(\u001b[0m\u001b[0;34m)\u001b[0m\u001b[0;34m\u001b[0m\u001b[0;34m\u001b[0m\u001b[0m\n\u001b[0m\u001b[1;32m    127\u001b[0m         )))\n\u001b[1;32m    128\u001b[0m \u001b[0;34m\u001b[0m\u001b[0m\n",
      "\u001b[0;32m~/projects/creme/creme/compose/pipeline.py\u001b[0m in \u001b[0;36mtransform_one\u001b[0;34m(self, x)\u001b[0m\n\u001b[1;32m    253\u001b[0m                 \u001b[0mtransformer\u001b[0m\u001b[0;34m.\u001b[0m\u001b[0mfit_one\u001b[0m\u001b[0;34m(\u001b[0m\u001b[0mx\u001b[0m\u001b[0;34m)\u001b[0m\u001b[0;34m\u001b[0m\u001b[0;34m\u001b[0m\u001b[0m\n\u001b[1;32m    254\u001b[0m \u001b[0;34m\u001b[0m\u001b[0m\n\u001b[0;32m--> 255\u001b[0;31m             \u001b[0mx\u001b[0m \u001b[0;34m=\u001b[0m \u001b[0mtransformer\u001b[0m\u001b[0;34m.\u001b[0m\u001b[0mtransform_one\u001b[0m\u001b[0;34m(\u001b[0m\u001b[0mx\u001b[0m\u001b[0;34m)\u001b[0m\u001b[0;34m\u001b[0m\u001b[0;34m\u001b[0m\u001b[0m\n\u001b[0m\u001b[1;32m    256\u001b[0m \u001b[0;34m\u001b[0m\u001b[0m\n\u001b[1;32m    257\u001b[0m         \u001b[0;32mreturn\u001b[0m \u001b[0mx\u001b[0m\u001b[0;34m\u001b[0m\u001b[0;34m\u001b[0m\u001b[0m\n",
      "\u001b[0;32m~/projects/creme/creme/feature_extraction/agg.py\u001b[0m in \u001b[0;36mtransform_one\u001b[0;34m(self, x)\u001b[0m\n\u001b[1;32m    155\u001b[0m \u001b[0;34m\u001b[0m\u001b[0m\n\u001b[1;32m    156\u001b[0m     \u001b[0;32mdef\u001b[0m \u001b[0mtransform_one\u001b[0m\u001b[0;34m(\u001b[0m\u001b[0mself\u001b[0m\u001b[0;34m,\u001b[0m \u001b[0mx\u001b[0m\u001b[0;34m)\u001b[0m\u001b[0;34m:\u001b[0m\u001b[0;34m\u001b[0m\u001b[0;34m\u001b[0m\u001b[0m\n\u001b[0;32m--> 157\u001b[0;31m         \u001b[0;32mreturn\u001b[0m \u001b[0;34m{\u001b[0m\u001b[0mself\u001b[0m\u001b[0;34m.\u001b[0m\u001b[0mfeature_name\u001b[0m\u001b[0;34m:\u001b[0m \u001b[0mself\u001b[0m\u001b[0;34m.\u001b[0m\u001b[0mgroups\u001b[0m\u001b[0;34m[\u001b[0m\u001b[0mself\u001b[0m\u001b[0;34m.\u001b[0m\u001b[0m_get_key\u001b[0m\u001b[0;34m(\u001b[0m\u001b[0mx\u001b[0m\u001b[0;34m)\u001b[0m\u001b[0;34m]\u001b[0m\u001b[0;34m.\u001b[0m\u001b[0mget\u001b[0m\u001b[0;34m(\u001b[0m\u001b[0;34m)\u001b[0m\u001b[0;34m}\u001b[0m\u001b[0;34m\u001b[0m\u001b[0;34m\u001b[0m\u001b[0m\n\u001b[0m\u001b[1;32m    158\u001b[0m \u001b[0;34m\u001b[0m\u001b[0m\n\u001b[1;32m    159\u001b[0m     \u001b[0;32mdef\u001b[0m \u001b[0m__str__\u001b[0m\u001b[0;34m(\u001b[0m\u001b[0mself\u001b[0m\u001b[0;34m)\u001b[0m\u001b[0;34m:\u001b[0m\u001b[0;34m\u001b[0m\u001b[0;34m\u001b[0m\u001b[0m\n",
      "\u001b[0;32m~/anaconda3/lib/python3.7/copy.py\u001b[0m in \u001b[0;36mdeepcopy\u001b[0;34m(x, memo, _nil)\u001b[0m\n\u001b[1;32m    167\u001b[0m                     \u001b[0mreductor\u001b[0m \u001b[0;34m=\u001b[0m \u001b[0mgetattr\u001b[0m\u001b[0;34m(\u001b[0m\u001b[0mx\u001b[0m\u001b[0;34m,\u001b[0m \u001b[0;34m\"__reduce_ex__\"\u001b[0m\u001b[0;34m,\u001b[0m \u001b[0;32mNone\u001b[0m\u001b[0;34m)\u001b[0m\u001b[0;34m\u001b[0m\u001b[0;34m\u001b[0m\u001b[0m\n\u001b[1;32m    168\u001b[0m                     \u001b[0;32mif\u001b[0m \u001b[0mreductor\u001b[0m\u001b[0;34m:\u001b[0m\u001b[0;34m\u001b[0m\u001b[0;34m\u001b[0m\u001b[0m\n\u001b[0;32m--> 169\u001b[0;31m                         \u001b[0mrv\u001b[0m \u001b[0;34m=\u001b[0m \u001b[0mreductor\u001b[0m\u001b[0;34m(\u001b[0m\u001b[0;36m4\u001b[0m\u001b[0;34m)\u001b[0m\u001b[0;34m\u001b[0m\u001b[0;34m\u001b[0m\u001b[0m\n\u001b[0m\u001b[1;32m    170\u001b[0m                     \u001b[0;32melse\u001b[0m\u001b[0;34m:\u001b[0m\u001b[0;34m\u001b[0m\u001b[0;34m\u001b[0m\u001b[0m\n\u001b[1;32m    171\u001b[0m                         \u001b[0mreductor\u001b[0m \u001b[0;34m=\u001b[0m \u001b[0mgetattr\u001b[0m\u001b[0;34m(\u001b[0m\u001b[0mx\u001b[0m\u001b[0;34m,\u001b[0m \u001b[0;34m\"__reduce__\"\u001b[0m\u001b[0;34m,\u001b[0m \u001b[0;32mNone\u001b[0m\u001b[0;34m)\u001b[0m\u001b[0;34m\u001b[0m\u001b[0;34m\u001b[0m\u001b[0m\n",
      "\u001b[0;32m~/projects/creme/creme/stats/mean.cpython-37m-x86_64-linux-gnu.so\u001b[0m in \u001b[0;36mcreme.stats.mean.Mean.__reduce_cython__\u001b[0;34m()\u001b[0m\n",
      "\u001b[0;31mTypeError\u001b[0m: no default __reduce__ due to non-trivial __cinit__"
     ]
    }
   ],
   "source": [
    "n_features = 6\n",
    "lr = 0.005\n",
    "\n",
    "class PyTorchNet(torch.nn.Module):\n",
    "    \n",
    "    def __init__(self, n_features):\n",
    "        super().__init__()\n",
    "        self.linear = torch.nn.Linear(n_features, 1)\n",
    "        torch.nn.init.constant_(self.linear.weight, 0)\n",
    "        torch.nn.init.constant_(self.linear.bias, 0)\n",
    "        \n",
    "    def forward(self, x):\n",
    "        return self.linear(x)\n",
    "    \n",
    "torch_model = PyTorchNet(n_features=n_features)\n",
    "\n",
    "# Keras\n",
    "inputs = layers.Input(shape=(n_features,))\n",
    "predictions = layers.Dense(1, kernel_initializer='zeros', bias_initializer='zeros')(inputs)\n",
    "keras_model = models.Model(inputs=inputs, outputs=predictions)\n",
    "keras_model.compile(optimizer=optimizers.SGD(lr=lr), loss='mean_squared_error')\n",
    "\n",
    "\n",
    "def add_hour(x):\n",
    "    x['hour'] = x['moment'].hour\n",
    "    return x\n",
    "\n",
    "results = benchmark(\n",
    "    get_X_y=datasets.fetch_bikes,\n",
    "    n=182470,\n",
    "    get_pp=lambda: (\n",
    "        compose.Whitelister('clouds', 'humidity', 'pressure', 'temperature', 'wind') +\n",
    "        (\n",
    "            add_hour |\n",
    "            feature_extraction.TargetAgg(by=['station', 'hour'], how=stats.Mean())\n",
    "        ) |\n",
    "        preprocessing.StandardScaler()\n",
    "    ),\n",
    "    models=[\n",
    "        ('creme', 'LinearRegression', linear_model.LinearRegression(\n",
    "            optimizer=optim.SGD(lr),\n",
    "            l2=0.,\n",
    "            intercept_lr=lr\n",
    "        )),\n",
    "        ('scikit-learn', 'SGD', ScikitLearnRegressor(\n",
    "            model=sk_linear_model.SGDRegressor(\n",
    "                learning_rate='constant',\n",
    "                eta0=lr,\n",
    "                penalty='none'\n",
    "            ),\n",
    "        )),\n",
    "        ('PyTorch (CPU)', 'Linear', PyTorchRegressor(\n",
    "            network=torch_model,\n",
    "            loss_fn=torch.nn.MSELoss(),\n",
    "            optimizer=torch.optim.SGD(torch_model.parameters(), lr=lr)\n",
    "        )),\n",
    "        ('Keras on Tensorflow (CPU)', 'Linear', KerasRegressor(\n",
    "            model=keras_model\n",
    "        )),\n",
    "    ],\n",
    "    get_metric=metrics.MSE\n",
    ")"
   ]
  },
  {
   "cell_type": "code",
   "execution_count": 6,
   "metadata": {},
   "outputs": [
    {
     "data": {
      "text/html": [
       "<div>\n",
       "<style scoped>\n",
       "    .dataframe tbody tr th:only-of-type {\n",
       "        vertical-align: middle;\n",
       "    }\n",
       "\n",
       "    .dataframe tbody tr th {\n",
       "        vertical-align: top;\n",
       "    }\n",
       "\n",
       "    .dataframe thead th {\n",
       "        text-align: right;\n",
       "    }\n",
       "</style>\n",
       "<table border=\"1\" class=\"dataframe\">\n",
       "  <thead>\n",
       "    <tr style=\"text-align: right;\">\n",
       "      <th></th>\n",
       "      <th>Library</th>\n",
       "      <th>Model</th>\n",
       "      <th>MSE</th>\n",
       "      <th>Fit time</th>\n",
       "      <th>Average fit time</th>\n",
       "      <th>Predict time</th>\n",
       "      <th>Average predict time</th>\n",
       "    </tr>\n",
       "  </thead>\n",
       "  <tbody>\n",
       "    <tr>\n",
       "      <th>0</th>\n",
       "      <td>creme</td>\n",
       "      <td>LinearRegression</td>\n",
       "      <td>23.035085</td>\n",
       "      <td>2s, 622ms, 432μs, 563ns</td>\n",
       "      <td>14μs, 372ns</td>\n",
       "      <td>834ms, 707μs, 565ns</td>\n",
       "      <td>4μs, 574ns</td>\n",
       "    </tr>\n",
       "    <tr>\n",
       "      <th>1</th>\n",
       "      <td>scikit-learn</td>\n",
       "      <td>SGD</td>\n",
       "      <td>25.295369</td>\n",
       "      <td>36s, 555ms, 976μs, 145ns</td>\n",
       "      <td>200μs, 340ns</td>\n",
       "      <td>14s, 833ms, 859μs, 20ns</td>\n",
       "      <td>81μs, 295ns</td>\n",
       "    </tr>\n",
       "    <tr>\n",
       "      <th>2</th>\n",
       "      <td>scikit-learn</td>\n",
       "      <td>SGD</td>\n",
       "      <td>42.724297</td>\n",
       "      <td>39s, 930ms, 699μs, 462ns</td>\n",
       "      <td>218μs, 834ns</td>\n",
       "      <td>15s, 781ms, 224μs, 91ns</td>\n",
       "      <td>86μs, 487ns</td>\n",
       "    </tr>\n",
       "    <tr>\n",
       "      <th>3</th>\n",
       "      <td>PyTorch (CPU)</td>\n",
       "      <td>Linear</td>\n",
       "      <td>23.035086</td>\n",
       "      <td>1m, 58s, 351ms, 418μs, 7ns</td>\n",
       "      <td>648μs, 608ns</td>\n",
       "      <td>38s, 722ms, 246μs, 818ns</td>\n",
       "      <td>212μs, 212ns</td>\n",
       "    </tr>\n",
       "    <tr>\n",
       "      <th>4</th>\n",
       "      <td>Keras on Tensorflow (CPU)</td>\n",
       "      <td>Linear</td>\n",
       "      <td>23.035086</td>\n",
       "      <td>4m, 5s, 205ms, 35μs, 827ns</td>\n",
       "      <td>1ms, 343μs, 810ns</td>\n",
       "      <td>2m, 27s, 291ms, 3μs, 275ns</td>\n",
       "      <td>807μs, 207ns</td>\n",
       "    </tr>\n",
       "  </tbody>\n",
       "</table>\n",
       "</div>"
      ],
      "text/plain": [
       "                     Library             Model        MSE  \\\n",
       "0                      creme  LinearRegression  23.035085   \n",
       "1               scikit-learn               SGD  25.295369   \n",
       "2               scikit-learn               SGD  42.724297   \n",
       "3              PyTorch (CPU)            Linear  23.035086   \n",
       "4  Keras on Tensorflow (CPU)            Linear  23.035086   \n",
       "\n",
       "                     Fit time   Average fit time                Predict time  \\\n",
       "0     2s, 622ms, 432μs, 563ns        14μs, 372ns         834ms, 707μs, 565ns   \n",
       "1    36s, 555ms, 976μs, 145ns       200μs, 340ns     14s, 833ms, 859μs, 20ns   \n",
       "2    39s, 930ms, 699μs, 462ns       218μs, 834ns     15s, 781ms, 224μs, 91ns   \n",
       "3  1m, 58s, 351ms, 418μs, 7ns       648μs, 608ns    38s, 722ms, 246μs, 818ns   \n",
       "4  4m, 5s, 205ms, 35μs, 827ns  1ms, 343μs, 810ns  2m, 27s, 291ms, 3μs, 275ns   \n",
       "\n",
       "  Average predict time  \n",
       "0           4μs, 574ns  \n",
       "1          81μs, 295ns  \n",
       "2          86μs, 487ns  \n",
       "3         212μs, 212ns  \n",
       "4         807μs, 207ns  "
      ]
     },
     "execution_count": 6,
     "metadata": {},
     "output_type": "execute_result"
    }
   ],
   "source": [
    "results"
   ]
  },
  {
   "cell_type": "code",
   "execution_count": 24,
   "metadata": {},
   "outputs": [
    {
     "name": "stdout",
     "output_type": "stream",
     "text": [
      "<table border=\"0\" class=\"dataframe\">\n",
      "  <thead>\n",
      "    <tr style=\"text-align: right;\">\n",
      "      <th>Library</th>\n",
      "      <th>MSE</th>\n",
      "      <th>Fit time</th>\n",
      "      <th>Average fit time</th>\n",
      "      <th>Predict time</th>\n",
      "      <th>Average predict time</th>\n",
      "    </tr>\n",
      "  </thead>\n",
      "  <tbody>\n",
      "    <tr>\n",
      "      <td>creme</td>\n",
      "      <td>23.035085</td>\n",
      "      <td>2s, 567ms, 982μs, 593ns</td>\n",
      "      <td>14μs, 73ns</td>\n",
      "      <td>819ms, 118μs, 167ns</td>\n",
      "      <td>4μs, 489ns</td>\n",
      "    </tr>\n",
      "    <tr>\n",
      "      <td>scikit-learn</td>\n",
      "      <td>25.295369</td>\n",
      "      <td>38s, 692ms, 38μs, 846ns</td>\n",
      "      <td>212μs, 46ns</td>\n",
      "      <td>15s, 722ms, 981μs, 63ns</td>\n",
      "      <td>86μs, 167ns</td>\n",
      "    </tr>\n",
      "    <tr>\n",
      "      <td>PyTorch (CPU)</td>\n",
      "      <td>23.035086</td>\n",
      "      <td>1m, 51s, 48ms, 220μs, 315ns</td>\n",
      "      <td>608μs, 583ns</td>\n",
      "      <td>35s, 101ms, 306μs, 783ns</td>\n",
      "      <td>192μs, 368ns</td>\n",
      "    </tr>\n",
      "    <tr>\n",
      "      <td>Keras on Tensorflow (CPU)</td>\n",
      "      <td>23.035086</td>\n",
      "      <td>4m, 27s, 475ms, 777μs, 134ns</td>\n",
      "      <td>1ms, 465μs, 862ns</td>\n",
      "      <td>2m, 37s, 877ms, 51μs, 349ns</td>\n",
      "      <td>865μs, 222ns</td>\n",
      "    </tr>\n",
      "  </tbody>\n",
      "</table>\n"
     ]
    }
   ],
   "source": [
    "print(results.to_html(\n",
    "    index=False,\n",
    "    columns=['Library', 'MSE', 'Fit time', 'Average fit time', 'Predict time', 'Average predict time'],\n",
    "    border=0\n",
    "))"
   ]
  },
  {
   "cell_type": "markdown",
   "metadata": {},
   "source": [
    "## Electricity prices (binary classification)"
   ]
  },
  {
   "cell_type": "code",
   "execution_count": 40,
   "metadata": {},
   "outputs": [
    {
     "data": {
      "application/vnd.jupyter.widget-view+json": {
       "model_id": "7e4502a19db047c8966c5fcb33f856c2",
       "version_major": 2,
       "version_minor": 0
      },
      "text/plain": [
       "HBox(children=(IntProgress(value=0, max=4), HTML(value='')))"
      ]
     },
     "metadata": {},
     "output_type": "display_data"
    },
    {
     "data": {
      "application/vnd.jupyter.widget-view+json": {
       "model_id": "4b76cc1623df45f5ad49170c0d925fbe",
       "version_major": 2,
       "version_minor": 0
      },
      "text/plain": [
       "HBox(children=(IntProgress(value=0, max=45312), HTML(value='')))"
      ]
     },
     "metadata": {},
     "output_type": "display_data"
    },
    {
     "data": {
      "application/vnd.jupyter.widget-view+json": {
       "model_id": "93add9be86a44ce9a903313b02289599",
       "version_major": 2,
       "version_minor": 0
      },
      "text/plain": [
       "HBox(children=(IntProgress(value=0, max=45312), HTML(value='')))"
      ]
     },
     "metadata": {},
     "output_type": "display_data"
    },
    {
     "data": {
      "application/vnd.jupyter.widget-view+json": {
       "model_id": "81c47e5acbe941aea3fbae3aa1b7d8df",
       "version_major": 2,
       "version_minor": 0
      },
      "text/plain": [
       "HBox(children=(IntProgress(value=0, max=45312), HTML(value='')))"
      ]
     },
     "metadata": {},
     "output_type": "display_data"
    },
    {
     "data": {
      "application/vnd.jupyter.widget-view+json": {
       "model_id": "93b3039d4ce74a16894fc186c634c36f",
       "version_major": 2,
       "version_minor": 0
      },
      "text/plain": [
       "HBox(children=(IntProgress(value=0, max=45312), HTML(value='')))"
      ]
     },
     "metadata": {},
     "output_type": "display_data"
    }
   ],
   "source": [
    "n_features = 8\n",
    "lr = 0.005\n",
    "\n",
    "# PyTorch\n",
    "class PyTorchNet(torch.nn.Module):\n",
    "    \n",
    "    def __init__(self, n_features):\n",
    "        super().__init__()\n",
    "        self.linear = torch.nn.Linear(n_features, 1)\n",
    "        self.sigmoid = torch.nn.Sigmoid()\n",
    "        torch.nn.init.constant_(self.linear.weight, 0)\n",
    "        torch.nn.init.constant_(self.linear.bias, 0)\n",
    "        \n",
    "    def forward(self, x):\n",
    "        return self.sigmoid(self.linear(x))\n",
    "    \n",
    "torch_model = PyTorchNet(n_features=n_features)\n",
    "\n",
    "# Keras\n",
    "inputs = layers.Input(shape=(n_features,))\n",
    "predictions = layers.Dense(1, activation='sigmoid', kernel_initializer='zeros', bias_initializer='zeros')(inputs)\n",
    "keras_model = models.Model(inputs=inputs, outputs=predictions)\n",
    "keras_model.compile(optimizer=optimizers.SGD(lr=lr), loss='binary_crossentropy')\n",
    "\n",
    "\n",
    "def add_hour(x):\n",
    "    x['hour'] = x['moment'].hour\n",
    "    return x\n",
    "\n",
    "results = benchmark(\n",
    "    get_X_y=datasets.fetch_electricity,\n",
    "    n=45312,\n",
    "    get_pp=preprocessing.StandardScaler,\n",
    "    models=[\n",
    "        ('creme', 'LogisticRegression', linear_model.LogisticRegression(\n",
    "            optimizer=optim.SGD(lr),\n",
    "            l2=0.,\n",
    "            intercept_lr=lr\n",
    "        )),\n",
    "\n",
    "        ('scikit-learn', 'SGD', ScikitLearnClassifier(\n",
    "            model=sk_linear_model.SGDClassifier(\n",
    "                loss='log',\n",
    "                learning_rate='constant',\n",
    "                eta0=lr,\n",
    "                penalty='none'\n",
    "            ),\n",
    "            classes=[False, True]\n",
    "        )),\n",
    "        \n",
    "        ('PyTorch (CPU)', 'Linear', PyTorchBinaryClassifier(\n",
    "            network=torch_model,\n",
    "            loss_fn=torch.nn.BCELoss(),\n",
    "            optimizer=torch.optim.SGD(torch_model.parameters(), lr=lr)\n",
    "        )),\n",
    "        \n",
    "        ('Keras on Tensorflow (CPU)', 'Linear', KerasBinaryClassifier(\n",
    "            model=keras_model\n",
    "        )),\n",
    "        \n",
    "    ],\n",
    "    get_metric=metrics.LogLoss\n",
    ")"
   ]
  },
  {
   "cell_type": "code",
   "execution_count": 41,
   "metadata": {},
   "outputs": [
    {
     "data": {
      "text/html": [
       "<div>\n",
       "<style scoped>\n",
       "    .dataframe tbody tr th:only-of-type {\n",
       "        vertical-align: middle;\n",
       "    }\n",
       "\n",
       "    .dataframe tbody tr th {\n",
       "        vertical-align: top;\n",
       "    }\n",
       "\n",
       "    .dataframe thead th {\n",
       "        text-align: right;\n",
       "    }\n",
       "</style>\n",
       "<table border=\"1\" class=\"dataframe\">\n",
       "  <thead>\n",
       "    <tr style=\"text-align: right;\">\n",
       "      <th></th>\n",
       "      <th>Library</th>\n",
       "      <th>Model</th>\n",
       "      <th>LogLoss</th>\n",
       "      <th>Fit time</th>\n",
       "      <th>Average fit time</th>\n",
       "      <th>Predict time</th>\n",
       "      <th>Average predict time</th>\n",
       "    </tr>\n",
       "  </thead>\n",
       "  <tbody>\n",
       "    <tr>\n",
       "      <th>0</th>\n",
       "      <td>creme</td>\n",
       "      <td>LogisticRegression</td>\n",
       "      <td>0.413533</td>\n",
       "      <td>717ms, 703μs, 959ns</td>\n",
       "      <td>15μs, 839ns</td>\n",
       "      <td>243ms, 460μs, 908ns</td>\n",
       "      <td>5μs, 373ns</td>\n",
       "    </tr>\n",
       "    <tr>\n",
       "      <th>1</th>\n",
       "      <td>scikit-learn</td>\n",
       "      <td>SGD</td>\n",
       "      <td>0.413533</td>\n",
       "      <td>14s, 350ms, 25μs, 126ns</td>\n",
       "      <td>316μs, 694ns</td>\n",
       "      <td>6s, 51ms, 349μs, 899ns</td>\n",
       "      <td>133μs, 549ns</td>\n",
       "    </tr>\n",
       "    <tr>\n",
       "      <th>2</th>\n",
       "      <td>PyTorch (CPU)</td>\n",
       "      <td>Linear</td>\n",
       "      <td>0.418901</td>\n",
       "      <td>32s, 689ms, 993μs, 527ns</td>\n",
       "      <td>721μs, 442ns</td>\n",
       "      <td>11s, 853ms, 58μs, 557ns</td>\n",
       "      <td>261μs, 588ns</td>\n",
       "    </tr>\n",
       "    <tr>\n",
       "      <th>3</th>\n",
       "      <td>Keras on Tensorflow (CPU)</td>\n",
       "      <td>Linear</td>\n",
       "      <td>0.418901</td>\n",
       "      <td>1m, 32s, 461ms, 383μs, 997ns</td>\n",
       "      <td>2ms, 40μs, 550ns</td>\n",
       "      <td>52s, 576ms, 662μs, 120ns</td>\n",
       "      <td>1ms, 160μs, 325ns</td>\n",
       "    </tr>\n",
       "  </tbody>\n",
       "</table>\n",
       "</div>"
      ],
      "text/plain": [
       "                     Library               Model   LogLoss  \\\n",
       "0                      creme  LogisticRegression  0.413533   \n",
       "1               scikit-learn                 SGD  0.413533   \n",
       "2              PyTorch (CPU)              Linear  0.418901   \n",
       "3  Keras on Tensorflow (CPU)              Linear  0.418901   \n",
       "\n",
       "                       Fit time  Average fit time              Predict time  \\\n",
       "0           717ms, 703μs, 959ns       15μs, 839ns       243ms, 460μs, 908ns   \n",
       "1       14s, 350ms, 25μs, 126ns      316μs, 694ns    6s, 51ms, 349μs, 899ns   \n",
       "2      32s, 689ms, 993μs, 527ns      721μs, 442ns   11s, 853ms, 58μs, 557ns   \n",
       "3  1m, 32s, 461ms, 383μs, 997ns  2ms, 40μs, 550ns  52s, 576ms, 662μs, 120ns   \n",
       "\n",
       "  Average predict time  \n",
       "0           5μs, 373ns  \n",
       "1         133μs, 549ns  \n",
       "2         261μs, 588ns  \n",
       "3    1ms, 160μs, 325ns  "
      ]
     },
     "execution_count": 41,
     "metadata": {},
     "output_type": "execute_result"
    }
   ],
   "source": [
    "results"
   ]
  },
  {
   "cell_type": "markdown",
   "metadata": {},
   "source": [
    "## Covertype (multi-class)"
   ]
  },
  {
   "cell_type": "code",
   "execution_count": 30,
   "metadata": {},
   "outputs": [
    {
     "data": {
      "application/vnd.jupyter.widget-view+json": {
       "model_id": "e4967cdd6b3c453bbf6b0a145dd7ec39",
       "version_major": 2,
       "version_minor": 0
      },
      "text/plain": [
       "HBox(children=(IntProgress(value=0, max=2), HTML(value='')))"
      ]
     },
     "metadata": {},
     "output_type": "display_data"
    },
    {
     "data": {
      "application/vnd.jupyter.widget-view+json": {
       "model_id": "046fa539ec6d4910b1a2d7dc2b5e4278",
       "version_major": 2,
       "version_minor": 0
      },
      "text/plain": [
       "HBox(children=(IntProgress(value=0, max=581012), HTML(value='')))"
      ]
     },
     "metadata": {},
     "output_type": "display_data"
    },
    {
     "ename": "KeyboardInterrupt",
     "evalue": "",
     "output_type": "error",
     "traceback": [
      "\u001b[0;31m---------------------------------------------------------------------------\u001b[0m",
      "\u001b[0;31mKeyboardInterrupt\u001b[0m                         Traceback (most recent call last)",
      "\u001b[0;32m<ipython-input-30-f968387ec67d>\u001b[0m in \u001b[0;36m<module>\u001b[0;34m\u001b[0m\n\u001b[1;32m     30\u001b[0m         )),\n\u001b[1;32m     31\u001b[0m     ],\n\u001b[0;32m---> 32\u001b[0;31m     \u001b[0mget_metric\u001b[0m\u001b[0;34m=\u001b[0m\u001b[0mmetrics\u001b[0m\u001b[0;34m.\u001b[0m\u001b[0mAccuracy\u001b[0m\u001b[0;34m\u001b[0m\u001b[0;34m\u001b[0m\u001b[0m\n\u001b[0m\u001b[1;32m     33\u001b[0m )\n\u001b[1;32m     34\u001b[0m \u001b[0;34m\u001b[0m\u001b[0m\n",
      "\u001b[0;32m<ipython-input-3-febf9a2c1b9d>\u001b[0m in \u001b[0;36mbenchmark\u001b[0;34m(get_X_y, n, get_pp, models, get_metric)\u001b[0m\n\u001b[1;32m     53\u001b[0m             \u001b[0;31m# Fit\u001b[0m\u001b[0;34m\u001b[0m\u001b[0;34m\u001b[0m\u001b[0;34m\u001b[0m\u001b[0m\n\u001b[1;32m     54\u001b[0m             \u001b[0mtic\u001b[0m \u001b[0;34m=\u001b[0m \u001b[0mtime\u001b[0m\u001b[0;34m.\u001b[0m\u001b[0mperf_counter_ns\u001b[0m\u001b[0;34m(\u001b[0m\u001b[0;34m)\u001b[0m\u001b[0;34m\u001b[0m\u001b[0;34m\u001b[0m\u001b[0m\n\u001b[0;32m---> 55\u001b[0;31m             \u001b[0mmodel\u001b[0m\u001b[0;34m.\u001b[0m\u001b[0mfit_one\u001b[0m\u001b[0;34m(\u001b[0m\u001b[0mx\u001b[0m\u001b[0;34m,\u001b[0m \u001b[0my\u001b[0m\u001b[0;34m)\u001b[0m\u001b[0;34m\u001b[0m\u001b[0;34m\u001b[0m\u001b[0m\n\u001b[0m\u001b[1;32m     56\u001b[0m             \u001b[0mfit_time\u001b[0m \u001b[0;34m+=\u001b[0m \u001b[0mtime\u001b[0m\u001b[0;34m.\u001b[0m\u001b[0mperf_counter_ns\u001b[0m\u001b[0;34m(\u001b[0m\u001b[0;34m)\u001b[0m \u001b[0;34m-\u001b[0m \u001b[0mtic\u001b[0m\u001b[0;34m\u001b[0m\u001b[0;34m\u001b[0m\u001b[0m\n\u001b[1;32m     57\u001b[0m \u001b[0;34m\u001b[0m\u001b[0m\n",
      "\u001b[0;32m<ipython-input-4-1d8b9bf87b7a>\u001b[0m in \u001b[0;36mfit_one\u001b[0;34m(self, x, y)\u001b[0m\n\u001b[1;32m      6\u001b[0m \u001b[0;34m\u001b[0m\u001b[0m\n\u001b[1;32m      7\u001b[0m     \u001b[0;32mdef\u001b[0m \u001b[0mfit_one\u001b[0m\u001b[0;34m(\u001b[0m\u001b[0mself\u001b[0m\u001b[0;34m,\u001b[0m \u001b[0mx\u001b[0m\u001b[0;34m,\u001b[0m \u001b[0my\u001b[0m\u001b[0;34m)\u001b[0m\u001b[0;34m:\u001b[0m\u001b[0;34m\u001b[0m\u001b[0;34m\u001b[0m\u001b[0m\n\u001b[0;32m----> 8\u001b[0;31m         \u001b[0mself\u001b[0m\u001b[0;34m.\u001b[0m\u001b[0mmodel\u001b[0m\u001b[0;34m.\u001b[0m\u001b[0mpartial_fit\u001b[0m\u001b[0;34m(\u001b[0m\u001b[0;34m[\u001b[0m\u001b[0mlist\u001b[0m\u001b[0;34m(\u001b[0m\u001b[0mx\u001b[0m\u001b[0;34m.\u001b[0m\u001b[0mvalues\u001b[0m\u001b[0;34m(\u001b[0m\u001b[0;34m)\u001b[0m\u001b[0;34m)\u001b[0m\u001b[0;34m]\u001b[0m\u001b[0;34m,\u001b[0m \u001b[0;34m[\u001b[0m\u001b[0my\u001b[0m\u001b[0;34m]\u001b[0m\u001b[0;34m,\u001b[0m \u001b[0mclasses\u001b[0m\u001b[0;34m=\u001b[0m\u001b[0mself\u001b[0m\u001b[0;34m.\u001b[0m\u001b[0mclasses\u001b[0m\u001b[0;34m)\u001b[0m\u001b[0;34m\u001b[0m\u001b[0;34m\u001b[0m\u001b[0m\n\u001b[0m\u001b[1;32m      9\u001b[0m         \u001b[0;32mreturn\u001b[0m \u001b[0mself\u001b[0m\u001b[0;34m\u001b[0m\u001b[0;34m\u001b[0m\u001b[0m\n\u001b[1;32m     10\u001b[0m \u001b[0;34m\u001b[0m\u001b[0m\n",
      "\u001b[0;32m~/anaconda3/lib/python3.7/site-packages/sklearn/linear_model/stochastic_gradient.py\u001b[0m in \u001b[0;36mpartial_fit\u001b[0;34m(self, X, y, classes, sample_weight)\u001b[0m\n\u001b[1;32m    713\u001b[0m                                  \u001b[0mlearning_rate\u001b[0m\u001b[0;34m=\u001b[0m\u001b[0mself\u001b[0m\u001b[0;34m.\u001b[0m\u001b[0mlearning_rate\u001b[0m\u001b[0;34m,\u001b[0m \u001b[0mmax_iter\u001b[0m\u001b[0;34m=\u001b[0m\u001b[0;36m1\u001b[0m\u001b[0;34m,\u001b[0m\u001b[0;34m\u001b[0m\u001b[0;34m\u001b[0m\u001b[0m\n\u001b[1;32m    714\u001b[0m                                  \u001b[0mclasses\u001b[0m\u001b[0;34m=\u001b[0m\u001b[0mclasses\u001b[0m\u001b[0;34m,\u001b[0m \u001b[0msample_weight\u001b[0m\u001b[0;34m=\u001b[0m\u001b[0msample_weight\u001b[0m\u001b[0;34m,\u001b[0m\u001b[0;34m\u001b[0m\u001b[0;34m\u001b[0m\u001b[0m\n\u001b[0;32m--> 715\u001b[0;31m                                  coef_init=None, intercept_init=None)\n\u001b[0m\u001b[1;32m    716\u001b[0m \u001b[0;34m\u001b[0m\u001b[0m\n\u001b[1;32m    717\u001b[0m     def fit(self, X, y, coef_init=None, intercept_init=None,\n",
      "\u001b[0;32m~/anaconda3/lib/python3.7/site-packages/sklearn/linear_model/stochastic_gradient.py\u001b[0m in \u001b[0;36m_partial_fit\u001b[0;34m(self, X, y, alpha, C, loss, learning_rate, max_iter, classes, sample_weight, coef_init, intercept_init)\u001b[0m\n\u001b[1;32m    548\u001b[0m                                  \u001b[0mlearning_rate\u001b[0m\u001b[0;34m=\u001b[0m\u001b[0mlearning_rate\u001b[0m\u001b[0;34m,\u001b[0m\u001b[0;34m\u001b[0m\u001b[0;34m\u001b[0m\u001b[0m\n\u001b[1;32m    549\u001b[0m                                  \u001b[0msample_weight\u001b[0m\u001b[0;34m=\u001b[0m\u001b[0msample_weight\u001b[0m\u001b[0;34m,\u001b[0m\u001b[0;34m\u001b[0m\u001b[0;34m\u001b[0m\u001b[0m\n\u001b[0;32m--> 550\u001b[0;31m                                  max_iter=max_iter)\n\u001b[0m\u001b[1;32m    551\u001b[0m         \u001b[0;32melif\u001b[0m \u001b[0mn_classes\u001b[0m \u001b[0;34m==\u001b[0m \u001b[0;36m2\u001b[0m\u001b[0;34m:\u001b[0m\u001b[0;34m\u001b[0m\u001b[0;34m\u001b[0m\u001b[0m\n\u001b[1;32m    552\u001b[0m             self._fit_binary(X, y, alpha=alpha, C=C,\n",
      "\u001b[0;32m~/anaconda3/lib/python3.7/site-packages/sklearn/linear_model/stochastic_gradient.py\u001b[0m in \u001b[0;36m_fit_multiclass\u001b[0;34m(self, X, y, alpha, C, learning_rate, sample_weight, max_iter)\u001b[0m\n\u001b[1;32m    648\u001b[0m                                 \u001b[0;36m1.\u001b[0m\u001b[0;34m,\u001b[0m \u001b[0msample_weight\u001b[0m\u001b[0;34m,\u001b[0m\u001b[0;34m\u001b[0m\u001b[0;34m\u001b[0m\u001b[0m\n\u001b[1;32m    649\u001b[0m                                 validation_mask=validation_mask)\n\u001b[0;32m--> 650\u001b[0;31m             for i in range(len(self.classes_)))\n\u001b[0m\u001b[1;32m    651\u001b[0m \u001b[0;34m\u001b[0m\u001b[0m\n\u001b[1;32m    652\u001b[0m         \u001b[0;31m# take the maximum of n_iter_ over every binary fit\u001b[0m\u001b[0;34m\u001b[0m\u001b[0;34m\u001b[0m\u001b[0;34m\u001b[0m\u001b[0m\n",
      "\u001b[0;32m~/anaconda3/lib/python3.7/site-packages/sklearn/externals/joblib/parallel.py\u001b[0m in \u001b[0;36m__call__\u001b[0;34m(self, iterable)\u001b[0m\n\u001b[1;32m    938\u001b[0m                 \u001b[0mself\u001b[0m\u001b[0;34m.\u001b[0m\u001b[0m_backend\u001b[0m\u001b[0;34m.\u001b[0m\u001b[0mstop_call\u001b[0m\u001b[0;34m(\u001b[0m\u001b[0;34m)\u001b[0m\u001b[0;34m\u001b[0m\u001b[0;34m\u001b[0m\u001b[0m\n\u001b[1;32m    939\u001b[0m             \u001b[0;32mif\u001b[0m \u001b[0;32mnot\u001b[0m \u001b[0mself\u001b[0m\u001b[0;34m.\u001b[0m\u001b[0m_managed_backend\u001b[0m\u001b[0;34m:\u001b[0m\u001b[0;34m\u001b[0m\u001b[0;34m\u001b[0m\u001b[0m\n\u001b[0;32m--> 940\u001b[0;31m                 \u001b[0mself\u001b[0m\u001b[0;34m.\u001b[0m\u001b[0m_terminate_backend\u001b[0m\u001b[0;34m(\u001b[0m\u001b[0;34m)\u001b[0m\u001b[0;34m\u001b[0m\u001b[0;34m\u001b[0m\u001b[0m\n\u001b[0m\u001b[1;32m    941\u001b[0m             \u001b[0mself\u001b[0m\u001b[0;34m.\u001b[0m\u001b[0m_jobs\u001b[0m \u001b[0;34m=\u001b[0m \u001b[0mlist\u001b[0m\u001b[0;34m(\u001b[0m\u001b[0;34m)\u001b[0m\u001b[0;34m\u001b[0m\u001b[0;34m\u001b[0m\u001b[0m\n\u001b[1;32m    942\u001b[0m             \u001b[0mself\u001b[0m\u001b[0;34m.\u001b[0m\u001b[0m_pickle_cache\u001b[0m \u001b[0;34m=\u001b[0m \u001b[0;32mNone\u001b[0m\u001b[0;34m\u001b[0m\u001b[0;34m\u001b[0m\u001b[0m\n",
      "\u001b[0;32m~/anaconda3/lib/python3.7/site-packages/sklearn/externals/joblib/parallel.py\u001b[0m in \u001b[0;36m_terminate_backend\u001b[0;34m(self)\u001b[0m\n\u001b[1;32m    694\u001b[0m     \u001b[0;32mdef\u001b[0m \u001b[0m_terminate_backend\u001b[0m\u001b[0;34m(\u001b[0m\u001b[0mself\u001b[0m\u001b[0;34m)\u001b[0m\u001b[0;34m:\u001b[0m\u001b[0;34m\u001b[0m\u001b[0;34m\u001b[0m\u001b[0m\n\u001b[1;32m    695\u001b[0m         \u001b[0;32mif\u001b[0m \u001b[0mself\u001b[0m\u001b[0;34m.\u001b[0m\u001b[0m_backend\u001b[0m \u001b[0;32mis\u001b[0m \u001b[0;32mnot\u001b[0m \u001b[0;32mNone\u001b[0m\u001b[0;34m:\u001b[0m\u001b[0;34m\u001b[0m\u001b[0;34m\u001b[0m\u001b[0m\n\u001b[0;32m--> 696\u001b[0;31m             \u001b[0mself\u001b[0m\u001b[0;34m.\u001b[0m\u001b[0m_backend\u001b[0m\u001b[0;34m.\u001b[0m\u001b[0mterminate\u001b[0m\u001b[0;34m(\u001b[0m\u001b[0;34m)\u001b[0m\u001b[0;34m\u001b[0m\u001b[0;34m\u001b[0m\u001b[0m\n\u001b[0m\u001b[1;32m    697\u001b[0m \u001b[0;34m\u001b[0m\u001b[0m\n\u001b[1;32m    698\u001b[0m     \u001b[0;32mdef\u001b[0m \u001b[0m_dispatch\u001b[0m\u001b[0;34m(\u001b[0m\u001b[0mself\u001b[0m\u001b[0;34m,\u001b[0m \u001b[0mbatch\u001b[0m\u001b[0;34m)\u001b[0m\u001b[0;34m:\u001b[0m\u001b[0;34m\u001b[0m\u001b[0;34m\u001b[0m\u001b[0m\n",
      "\u001b[0;32m~/anaconda3/lib/python3.7/site-packages/sklearn/externals/joblib/_parallel_backends.py\u001b[0m in \u001b[0;36mterminate\u001b[0;34m(self)\u001b[0m\n\u001b[1;32m    215\u001b[0m         \u001b[0;32mif\u001b[0m \u001b[0mself\u001b[0m\u001b[0;34m.\u001b[0m\u001b[0m_pool\u001b[0m \u001b[0;32mis\u001b[0m \u001b[0;32mnot\u001b[0m \u001b[0;32mNone\u001b[0m\u001b[0;34m:\u001b[0m\u001b[0;34m\u001b[0m\u001b[0;34m\u001b[0m\u001b[0m\n\u001b[1;32m    216\u001b[0m             \u001b[0mself\u001b[0m\u001b[0;34m.\u001b[0m\u001b[0m_pool\u001b[0m\u001b[0;34m.\u001b[0m\u001b[0mclose\u001b[0m\u001b[0;34m(\u001b[0m\u001b[0;34m)\u001b[0m\u001b[0;34m\u001b[0m\u001b[0;34m\u001b[0m\u001b[0m\n\u001b[0;32m--> 217\u001b[0;31m             \u001b[0mself\u001b[0m\u001b[0;34m.\u001b[0m\u001b[0m_pool\u001b[0m\u001b[0;34m.\u001b[0m\u001b[0mterminate\u001b[0m\u001b[0;34m(\u001b[0m\u001b[0;34m)\u001b[0m  \u001b[0;31m# terminate does a join()\u001b[0m\u001b[0;34m\u001b[0m\u001b[0;34m\u001b[0m\u001b[0m\n\u001b[0m\u001b[1;32m    218\u001b[0m             \u001b[0mself\u001b[0m\u001b[0;34m.\u001b[0m\u001b[0m_pool\u001b[0m \u001b[0;34m=\u001b[0m \u001b[0;32mNone\u001b[0m\u001b[0;34m\u001b[0m\u001b[0;34m\u001b[0m\u001b[0m\n\u001b[1;32m    219\u001b[0m \u001b[0;34m\u001b[0m\u001b[0m\n",
      "\u001b[0;32m~/anaconda3/lib/python3.7/multiprocessing/pool.py\u001b[0m in \u001b[0;36mterminate\u001b[0;34m(self)\u001b[0m\n\u001b[1;32m    546\u001b[0m         \u001b[0mself\u001b[0m\u001b[0;34m.\u001b[0m\u001b[0m_state\u001b[0m \u001b[0;34m=\u001b[0m \u001b[0mTERMINATE\u001b[0m\u001b[0;34m\u001b[0m\u001b[0;34m\u001b[0m\u001b[0m\n\u001b[1;32m    547\u001b[0m         \u001b[0mself\u001b[0m\u001b[0;34m.\u001b[0m\u001b[0m_worker_handler\u001b[0m\u001b[0;34m.\u001b[0m\u001b[0m_state\u001b[0m \u001b[0;34m=\u001b[0m \u001b[0mTERMINATE\u001b[0m\u001b[0;34m\u001b[0m\u001b[0;34m\u001b[0m\u001b[0m\n\u001b[0;32m--> 548\u001b[0;31m         \u001b[0mself\u001b[0m\u001b[0;34m.\u001b[0m\u001b[0m_terminate\u001b[0m\u001b[0;34m(\u001b[0m\u001b[0;34m)\u001b[0m\u001b[0;34m\u001b[0m\u001b[0;34m\u001b[0m\u001b[0m\n\u001b[0m\u001b[1;32m    549\u001b[0m \u001b[0;34m\u001b[0m\u001b[0m\n\u001b[1;32m    550\u001b[0m     \u001b[0;32mdef\u001b[0m \u001b[0mjoin\u001b[0m\u001b[0;34m(\u001b[0m\u001b[0mself\u001b[0m\u001b[0;34m)\u001b[0m\u001b[0;34m:\u001b[0m\u001b[0;34m\u001b[0m\u001b[0;34m\u001b[0m\u001b[0m\n",
      "\u001b[0;32m~/anaconda3/lib/python3.7/multiprocessing/util.py\u001b[0m in \u001b[0;36m__call__\u001b[0;34m(self, wr, _finalizer_registry, sub_debug, getpid)\u001b[0m\n\u001b[1;32m    187\u001b[0m                 sub_debug('finalizer calling %s with args %s and kwargs %s',\n\u001b[1;32m    188\u001b[0m                           self._callback, self._args, self._kwargs)\n\u001b[0;32m--> 189\u001b[0;31m                 \u001b[0mres\u001b[0m \u001b[0;34m=\u001b[0m \u001b[0mself\u001b[0m\u001b[0;34m.\u001b[0m\u001b[0m_callback\u001b[0m\u001b[0;34m(\u001b[0m\u001b[0;34m*\u001b[0m\u001b[0mself\u001b[0m\u001b[0;34m.\u001b[0m\u001b[0m_args\u001b[0m\u001b[0;34m,\u001b[0m \u001b[0;34m**\u001b[0m\u001b[0mself\u001b[0m\u001b[0;34m.\u001b[0m\u001b[0m_kwargs\u001b[0m\u001b[0;34m)\u001b[0m\u001b[0;34m\u001b[0m\u001b[0;34m\u001b[0m\u001b[0m\n\u001b[0m\u001b[1;32m    190\u001b[0m             \u001b[0mself\u001b[0m\u001b[0;34m.\u001b[0m\u001b[0m_weakref\u001b[0m \u001b[0;34m=\u001b[0m \u001b[0mself\u001b[0m\u001b[0;34m.\u001b[0m\u001b[0m_callback\u001b[0m \u001b[0;34m=\u001b[0m \u001b[0mself\u001b[0m\u001b[0;34m.\u001b[0m\u001b[0m_args\u001b[0m \u001b[0;34m=\u001b[0m\u001b[0;31m \u001b[0m\u001b[0;31m\\\u001b[0m\u001b[0;34m\u001b[0m\u001b[0;34m\u001b[0m\u001b[0m\n\u001b[1;32m    191\u001b[0m                             \u001b[0mself\u001b[0m\u001b[0;34m.\u001b[0m\u001b[0m_kwargs\u001b[0m \u001b[0;34m=\u001b[0m \u001b[0mself\u001b[0m\u001b[0;34m.\u001b[0m\u001b[0m_key\u001b[0m \u001b[0;34m=\u001b[0m \u001b[0;32mNone\u001b[0m\u001b[0;34m\u001b[0m\u001b[0;34m\u001b[0m\u001b[0m\n",
      "\u001b[0;32m~/anaconda3/lib/python3.7/multiprocessing/pool.py\u001b[0m in \u001b[0;36m_terminate_pool\u001b[0;34m(cls, taskqueue, inqueue, outqueue, pool, worker_handler, task_handler, result_handler, cache)\u001b[0m\n\u001b[1;32m    592\u001b[0m         \u001b[0mutil\u001b[0m\u001b[0;34m.\u001b[0m\u001b[0mdebug\u001b[0m\u001b[0;34m(\u001b[0m\u001b[0;34m'joining worker handler'\u001b[0m\u001b[0;34m)\u001b[0m\u001b[0;34m\u001b[0m\u001b[0;34m\u001b[0m\u001b[0m\n\u001b[1;32m    593\u001b[0m         \u001b[0;32mif\u001b[0m \u001b[0mthreading\u001b[0m\u001b[0;34m.\u001b[0m\u001b[0mcurrent_thread\u001b[0m\u001b[0;34m(\u001b[0m\u001b[0;34m)\u001b[0m \u001b[0;32mis\u001b[0m \u001b[0;32mnot\u001b[0m \u001b[0mworker_handler\u001b[0m\u001b[0;34m:\u001b[0m\u001b[0;34m\u001b[0m\u001b[0;34m\u001b[0m\u001b[0m\n\u001b[0;32m--> 594\u001b[0;31m             \u001b[0mworker_handler\u001b[0m\u001b[0;34m.\u001b[0m\u001b[0mjoin\u001b[0m\u001b[0;34m(\u001b[0m\u001b[0;34m)\u001b[0m\u001b[0;34m\u001b[0m\u001b[0;34m\u001b[0m\u001b[0m\n\u001b[0m\u001b[1;32m    595\u001b[0m \u001b[0;34m\u001b[0m\u001b[0m\n\u001b[1;32m    596\u001b[0m         \u001b[0;31m# Terminate workers which haven't already finished.\u001b[0m\u001b[0;34m\u001b[0m\u001b[0;34m\u001b[0m\u001b[0;34m\u001b[0m\u001b[0m\n",
      "\u001b[0;32m~/anaconda3/lib/python3.7/threading.py\u001b[0m in \u001b[0;36mjoin\u001b[0;34m(self, timeout)\u001b[0m\n\u001b[1;32m   1030\u001b[0m \u001b[0;34m\u001b[0m\u001b[0m\n\u001b[1;32m   1031\u001b[0m         \u001b[0;32mif\u001b[0m \u001b[0mtimeout\u001b[0m \u001b[0;32mis\u001b[0m \u001b[0;32mNone\u001b[0m\u001b[0;34m:\u001b[0m\u001b[0;34m\u001b[0m\u001b[0;34m\u001b[0m\u001b[0m\n\u001b[0;32m-> 1032\u001b[0;31m             \u001b[0mself\u001b[0m\u001b[0;34m.\u001b[0m\u001b[0m_wait_for_tstate_lock\u001b[0m\u001b[0;34m(\u001b[0m\u001b[0;34m)\u001b[0m\u001b[0;34m\u001b[0m\u001b[0;34m\u001b[0m\u001b[0m\n\u001b[0m\u001b[1;32m   1033\u001b[0m         \u001b[0;32melse\u001b[0m\u001b[0;34m:\u001b[0m\u001b[0;34m\u001b[0m\u001b[0;34m\u001b[0m\u001b[0m\n\u001b[1;32m   1034\u001b[0m             \u001b[0;31m# the behavior of a negative timeout isn't documented, but\u001b[0m\u001b[0;34m\u001b[0m\u001b[0;34m\u001b[0m\u001b[0;34m\u001b[0m\u001b[0m\n",
      "\u001b[0;32m~/anaconda3/lib/python3.7/threading.py\u001b[0m in \u001b[0;36m_wait_for_tstate_lock\u001b[0;34m(self, block, timeout)\u001b[0m\n\u001b[1;32m   1046\u001b[0m         \u001b[0;32mif\u001b[0m \u001b[0mlock\u001b[0m \u001b[0;32mis\u001b[0m \u001b[0;32mNone\u001b[0m\u001b[0;34m:\u001b[0m  \u001b[0;31m# already determined that the C code is done\u001b[0m\u001b[0;34m\u001b[0m\u001b[0;34m\u001b[0m\u001b[0m\n\u001b[1;32m   1047\u001b[0m             \u001b[0;32massert\u001b[0m \u001b[0mself\u001b[0m\u001b[0;34m.\u001b[0m\u001b[0m_is_stopped\u001b[0m\u001b[0;34m\u001b[0m\u001b[0;34m\u001b[0m\u001b[0m\n\u001b[0;32m-> 1048\u001b[0;31m         \u001b[0;32melif\u001b[0m \u001b[0mlock\u001b[0m\u001b[0;34m.\u001b[0m\u001b[0macquire\u001b[0m\u001b[0;34m(\u001b[0m\u001b[0mblock\u001b[0m\u001b[0;34m,\u001b[0m \u001b[0mtimeout\u001b[0m\u001b[0;34m)\u001b[0m\u001b[0;34m:\u001b[0m\u001b[0;34m\u001b[0m\u001b[0;34m\u001b[0m\u001b[0m\n\u001b[0m\u001b[1;32m   1049\u001b[0m             \u001b[0mlock\u001b[0m\u001b[0;34m.\u001b[0m\u001b[0mrelease\u001b[0m\u001b[0;34m(\u001b[0m\u001b[0;34m)\u001b[0m\u001b[0;34m\u001b[0m\u001b[0;34m\u001b[0m\u001b[0m\n\u001b[1;32m   1050\u001b[0m             \u001b[0mself\u001b[0m\u001b[0;34m.\u001b[0m\u001b[0m_stop\u001b[0m\u001b[0;34m(\u001b[0m\u001b[0;34m)\u001b[0m\u001b[0;34m\u001b[0m\u001b[0;34m\u001b[0m\u001b[0m\n",
      "\u001b[0;31mKeyboardInterrupt\u001b[0m: "
     ]
    }
   ],
   "source": [
    "from sklearn import datasets\n",
    "from creme import multiclass\n",
    "\n",
    "n_features = 54\n",
    "classes = [1, 2, 3, 4, 5, 6, 7]\n",
    "lr = 0.005\n",
    "\n",
    "results = benchmark(\n",
    "    get_X_y=lambda: stream.iter_sklearn_dataset(datasets.fetch_covtype()),\n",
    "    n=581012,\n",
    "    get_pp=preprocessing.StandardScaler,\n",
    "    models=[\n",
    "        ('sklearn', 'LogisticRegression', ScikitLearnClassifier(\n",
    "            model=sk_linear_model.SGDClassifier(\n",
    "                loss='log',\n",
    "                learning_rate='constant',\n",
    "                eta0=lr,\n",
    "                penalty='none'\n",
    "            ),\n",
    "            classes=classes\n",
    "        )),\n",
    "        \n",
    "        ('creme', 'LogisticRegression', multiclass.OneVsRestClassifier(\n",
    "            binary_classifier=linear_model.LogisticRegression(\n",
    "                optimizer=optim.SGD(lr),\n",
    "                l2=0.,\n",
    "                intercept_lr=lr\n",
    "            )\n",
    "        )),\n",
    "    ],\n",
    "    get_metric=metrics.Accuracy\n",
    ")\n",
    "\n",
    "results"
   ]
  },
  {
   "cell_type": "code",
   "execution_count": null,
   "metadata": {},
   "outputs": [],
   "source": []
  }
 ],
 "metadata": {
  "kernelspec": {
   "display_name": "Python 3",
   "language": "python",
   "name": "python3"
  },
  "language_info": {
   "codemirror_mode": {
    "name": "ipython",
    "version": 3
   },
   "file_extension": ".py",
   "mimetype": "text/x-python",
   "name": "python",
   "nbconvert_exporter": "python",
   "pygments_lexer": "ipython3",
   "version": "3.7.3"
  }
 },
 "nbformat": 4,
 "nbformat_minor": 2
}
